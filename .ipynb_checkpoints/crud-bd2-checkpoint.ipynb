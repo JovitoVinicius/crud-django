{
 "cells": [
  {
   "cell_type": "markdown",
   "id": "f3c24a3c",
   "metadata": {},
   "source": [
    "## Trabalho 2 - Banco de dados 2 ##"
   ]
  },
  {
   "cell_type": "markdown",
   "id": "c19159dc",
   "metadata": {},
   "source": [
    "#### Alunos: Felipe Augusto e Vinicius Jovito"
   ]
  },
  {
   "cell_type": "code",
   "execution_count": 1,
   "id": "99ec9b29",
   "metadata": {},
   "outputs": [
    {
     "name": "stdout",
     "output_type": "stream",
     "text": [
      "Requirement already satisfied: sqlalchemy in c:\\users\\vinicius jovito\\anaconda3\\lib\\site-packages (1.4.32)\n",
      "Requirement already satisfied: greenlet!=0.4.17 in c:\\users\\vinicius jovito\\anaconda3\\lib\\site-packages (from sqlalchemy) (1.1.1)\n"
     ]
    }
   ],
   "source": [
    "!pip install sqlalchemy\n",
    "import sqlalchemy"
   ]
  },
  {
   "cell_type": "code",
   "execution_count": 2,
   "id": "ab92623f",
   "metadata": {},
   "outputs": [],
   "source": [
    "engine = sqlalchemy.create_engine('sqlite:///detran.db', echo=True)"
   ]
  },
  {
   "cell_type": "code",
   "execution_count": 3,
   "id": "b7f7287e",
   "metadata": {},
   "outputs": [],
   "source": [
    "from sqlalchemy.orm import declarative_base\n",
    "from sqlalchemy import Column, Integer, String, Date, ForeignKey"
   ]
  },
  {
   "cell_type": "code",
   "execution_count": 4,
   "id": "e3d0e9b9",
   "metadata": {},
   "outputs": [],
   "source": [
    "Base = declarative_base()"
   ]
  },
  {
   "cell_type": "markdown",
   "id": "64a08d64",
   "metadata": {},
   "source": [
    "#### Definindo as classes / tabelas"
   ]
  },
  {
   "cell_type": "code",
   "execution_count": 5,
   "id": "748f1b0f",
   "metadata": {},
   "outputs": [],
   "source": [
    "class Pessoa(Base):\n",
    "    __tablename__ = 'pessoa'\n",
    "    id_pessoa = Column(Integer, primary_key=True)\n",
    "    nome_pessoa = Column(String(50), nullable=False)\n",
    "    cpf_pessoa = Column(String(11), nullable=False)\n",
    "    nascimento_pessoa = Column(String(8), nullable=False)\n",
    "    estado_civil_pessoa = Column(String(15))\n",
    "    endereco_pessoa = Column(String(100))\n",
    "    \n",
    "    def __repr__(self):\n",
    "        return \"<Pessoa(nome_pessoa={}, cpf_pessoa={}, nascimento_pessoa={}, estado_civil_pessoa={}, endereco_pessoa={})>\".format(\n",
    "            self.nome_pessoa, self.cpf_pessoa, self.nascimento_pessoa, self.estado_civil_pessoa, self.endereco_pessoa)"
   ]
  },
  {
   "cell_type": "code",
   "execution_count": 6,
   "id": "c24cac50",
   "metadata": {},
   "outputs": [],
   "source": [
    "class CNH(Base):\n",
    "    __tablename__ = 'cnh'\n",
    "    id_cnh = Column(Integer, primary_key=True)\n",
    "    registro_cnh = Column(String(20), nullable=False)\n",
    "    validade_cnh = Column(String(8), nullable=False)\n",
    "    id_pessoa_cnh = Column(Integer, ForeignKey(\"pessoa.id_pessoa\"))\n",
    "    \n",
    "    def __repr__(self):\n",
    "        return \"<CNH(registro_cnh={}, validade_cnh={})>\".format(\n",
    "            self.registro_cnh, self.validade_cnh)"
   ]
  },
  {
   "cell_type": "code",
   "execution_count": 7,
   "id": "e971079d",
   "metadata": {},
   "outputs": [],
   "source": [
    "class Veiculo(Base):\n",
    "    __tablename__ = 'veiculo'\n",
    "    id_veiculo = Column(Integer, primary_key=True)\n",
    "    renavam_veiculo = Column(String(20), nullable=False)\n",
    "    placa_veiculo = Column(String(10), nullable=False)\n",
    "    chassi_char = Column(String(17), nullable=False)\n",
    "    modelo_carro = Column(String(20))\n",
    "    id_proprietário_veiculo = Column(Integer, ForeignKey(\"pessoa.id_pessoa\"))\n",
    "\n",
    "    def __repr__(self):\n",
    "        return \"<Veiculo(renavam_veiculo={}, placa_veiculo={}, chassi_char={}, modelo_carro={})>\".format(\n",
    "            self.renavam_veiculo, self.placa_veiculo, self.chassi_char, self.modelo_carro)"
   ]
  },
  {
   "cell_type": "code",
   "execution_count": 8,
   "id": "e4595129",
   "metadata": {},
   "outputs": [],
   "source": [
    "class Infracao(Base):\n",
    "    __tablename__ = 'infracao'\n",
    "    id_infracao = Column(Integer, primary_key=True)\n",
    "    codigo_infracao = Column(String(15), nullable=False)\n",
    "    descricao_infracao = Column(String(500))\n",
    "    \n",
    "    def __repr__(self):\n",
    "        return \"<Infracao(codigo_infracao={}, descricao_infracao={})>\".format(\n",
    "            self.codigo_infracao, self.descricao_infracao)\n",
    "    "
   ]
  },
  {
   "cell_type": "code",
   "execution_count": 9,
   "id": "9c76ead7",
   "metadata": {},
   "outputs": [],
   "source": [
    "class Equipamento(Base):\n",
    "    __tablename__ = 'equipamento'\n",
    "    id_equipamento = Column(Integer, primary_key=True)\n",
    "    numero_equipamento = Column(String(25), nullable=False)\n",
    "    localizacao_equipamento = Column(String(40))\n",
    "    \n",
    "    def __repr__(self):\n",
    "        return \"<Equipamento(numero_equipamento={}, localizacao_equipamento={})>\".format(\n",
    "            self.numero_equipamento, self.localizacao_equipamento)"
   ]
  },
  {
   "cell_type": "code",
   "execution_count": 10,
   "id": "b77631a8",
   "metadata": {},
   "outputs": [],
   "source": [
    "class Multa(Base):\n",
    "    __tablename__ = 'multa'\n",
    "    id_multa = Column(Integer, primary_key=True)\n",
    "    tipo_multa = Column(String(20))\n",
    "    numero_multa = Column(Integer)\n",
    "    data_multa = Column(String(8))\n",
    "    vencimento_multa = Column(String(8))\n",
    "    estado_multa = Column(String(20))\n",
    "    nome_agente_multa = Column(String(50), nullable=False)\n",
    "    orgao_multa = Column(String(50), nullable=False)\n",
    "    id_pessoa_multa = Column(Integer, ForeignKey(\"pessoa.id_pessoa\"))\n",
    "    id_veiculo_multa = Column(Integer, ForeignKey(\"veiculo.id_veiculo\"))\n",
    "    id_infracao_multa = Column(Integer, ForeignKey(\"infracao.id_infracao\"))\n",
    "    id_equipamento_multa = Column(Integer, ForeignKey(\"equipamento.id_equipamento\"))\n",
    "    \n",
    "def __repr__(self):\n",
    "        return \"<Multa(tipo_multa={}, numero_multa={}, data_multa={}, vencimento_multa={}, estado_multa={}, nome_agente_multa={}, orgao_multa={})>\".format(\n",
    "            self.tipo_multa, self.numero_multa, self.data_multa, self.vencimento_multa, self.estado_multa, self.nome_agente_multa, self.orgao_multa)"
   ]
  },
  {
   "cell_type": "code",
   "execution_count": 11,
   "id": "3ed2a14e",
   "metadata": {},
   "outputs": [
    {
     "name": "stdout",
     "output_type": "stream",
     "text": [
      "2022-11-22 13:36:24,778 INFO sqlalchemy.engine.Engine BEGIN (implicit)\n",
      "2022-11-22 13:36:24,780 INFO sqlalchemy.engine.Engine PRAGMA main.table_info(\"pessoa\")\n",
      "2022-11-22 13:36:24,780 INFO sqlalchemy.engine.Engine [raw sql] ()\n",
      "2022-11-22 13:36:24,782 INFO sqlalchemy.engine.Engine PRAGMA main.table_info(\"cnh\")\n",
      "2022-11-22 13:36:24,783 INFO sqlalchemy.engine.Engine [raw sql] ()\n",
      "2022-11-22 13:36:24,784 INFO sqlalchemy.engine.Engine PRAGMA main.table_info(\"veiculo\")\n",
      "2022-11-22 13:36:24,785 INFO sqlalchemy.engine.Engine [raw sql] ()\n",
      "2022-11-22 13:36:24,786 INFO sqlalchemy.engine.Engine PRAGMA main.table_info(\"infracao\")\n",
      "2022-11-22 13:36:24,787 INFO sqlalchemy.engine.Engine [raw sql] ()\n",
      "2022-11-22 13:36:24,788 INFO sqlalchemy.engine.Engine PRAGMA main.table_info(\"equipamento\")\n",
      "2022-11-22 13:36:24,789 INFO sqlalchemy.engine.Engine [raw sql] ()\n",
      "2022-11-22 13:36:24,790 INFO sqlalchemy.engine.Engine PRAGMA main.table_info(\"multa\")\n",
      "2022-11-22 13:36:24,791 INFO sqlalchemy.engine.Engine [raw sql] ()\n",
      "2022-11-22 13:36:24,792 INFO sqlalchemy.engine.Engine COMMIT\n"
     ]
    }
   ],
   "source": [
    "Base.metadata.create_all(engine)"
   ]
  },
  {
   "cell_type": "markdown",
   "id": "bf7d562a",
   "metadata": {},
   "source": [
    "#### Create"
   ]
  },
  {
   "cell_type": "code",
   "execution_count": 12,
   "id": "6bda2efe",
   "metadata": {},
   "outputs": [],
   "source": [
    "from sqlalchemy.orm import sessionmaker"
   ]
  },
  {
   "cell_type": "code",
   "execution_count": 13,
   "id": "467a9a33",
   "metadata": {},
   "outputs": [
    {
     "data": {
      "text/plain": [
       "sessionmaker(class_='Session', bind=Engine(sqlite:///detran.db), autoflush=True, autocommit=False, expire_on_commit=True)"
      ]
     },
     "execution_count": 13,
     "metadata": {},
     "output_type": "execute_result"
    }
   ],
   "source": [
    "Session = sessionmaker(bind=engine)\n",
    "Session"
   ]
  },
  {
   "cell_type": "code",
   "execution_count": 14,
   "id": "fdf937b7",
   "metadata": {},
   "outputs": [],
   "source": [
    "session = Session()"
   ]
  },
  {
   "cell_type": "code",
   "execution_count": 15,
   "id": "b9722e77",
   "metadata": {},
   "outputs": [],
   "source": [
    "#Adicionando novas pessoas na tabela Pessoa\n",
    "session.add_all([\n",
    "    Pessoa(nome_pessoa = 'Vinicius Soares Jovito', cpf_pessoa = '11122233344', nascimento_pessoa = '2000-04-15', estado_civil_pessoa = 'Solteiro', endereco_pessoa = 'Riacho Fundo 1'),\n",
    "    Pessoa(nome_pessoa = 'Felipe Augusto', cpf_pessoa = '44433322211', nascimento_pessoa = '2000-03-15', estado_civil_pessoa = 'Solteiro', endereco_pessoa = 'Candangolândia'),\n",
    "    ])"
   ]
  },
  {
   "cell_type": "code",
   "execution_count": null,
   "id": "c3552672",
   "metadata": {},
   "outputs": [],
   "source": [
    "#Adicionando dados na tabela CNH\n",
    "session.add_all([\n",
    "    CNH(nome_pessoa = 'Vinicius Soares Jovito', cpf_pessoa = '11122233344', nascimento_pessoa = '2000-04-15', estado_civil_pessoa = 'Solteiro', endereco_pessoa = 'Riacho Fundo 1'),\n",
    "    CNH(nome_pessoa = 'Felipe Augusto', cpf_pessoa = '44433322211', nascimento_pessoa = '2000-03-15', estado_civil_pessoa = 'Solteiro', endereco_pessoa = 'Candangolândia'),\n",
    "    ])"
   ]
  },
  {
   "cell_type": "code",
   "execution_count": 16,
   "id": "ebfee196",
   "metadata": {},
   "outputs": [
    {
     "data": {
      "text/plain": [
       "IdentitySet([<Pessoa(nome_pessoa=Vinicius Soares Jovito, cpf_pessoa=11122233344, nascimento_pessoa=2000-04-15, estado_civil_pessoa=Solteiro, endereco_pessoa=Riacho Fundo 1)>, <Pessoa(nome_pessoa=Felipe Augusto, cpf_pessoa=44433322211, nascimento_pessoa=2000-03-15, estado_civil_pessoa=Solteiro, endereco_pessoa=Candangolândia)>])"
      ]
     },
     "execution_count": 16,
     "metadata": {},
     "output_type": "execute_result"
    }
   ],
   "source": [
    "#Verificando os dados antes de colocar no banco\n",
    "session.new"
   ]
  },
  {
   "cell_type": "code",
   "execution_count": 17,
   "id": "eab2c8f1",
   "metadata": {},
   "outputs": [
    {
     "name": "stdout",
     "output_type": "stream",
     "text": [
      "2022-11-22 13:36:24,889 INFO sqlalchemy.engine.Engine BEGIN (implicit)\n",
      "2022-11-22 13:36:24,892 INFO sqlalchemy.engine.Engine INSERT INTO pessoa (nome_pessoa, cpf_pessoa, nascimento_pessoa, estado_civil_pessoa, endereco_pessoa) VALUES (?, ?, ?, ?, ?)\n",
      "2022-11-22 13:36:24,893 INFO sqlalchemy.engine.Engine [generated in 0.00126s] ('Vinicius Soares Jovito', '11122233344', '2000-04-15', 'Solteiro', 'Riacho Fundo 1')\n",
      "2022-11-22 13:36:24,896 INFO sqlalchemy.engine.Engine INSERT INTO pessoa (nome_pessoa, cpf_pessoa, nascimento_pessoa, estado_civil_pessoa, endereco_pessoa) VALUES (?, ?, ?, ?, ?)\n",
      "2022-11-22 13:36:24,897 INFO sqlalchemy.engine.Engine [cached since 0.005241s ago] ('Felipe Augusto', '44433322211', '2000-03-15', 'Solteiro', 'Candangolândia')\n",
      "2022-11-22 13:36:24,898 INFO sqlalchemy.engine.Engine COMMIT\n"
     ]
    }
   ],
   "source": [
    "#Enviando os dados para o banco de dados\n",
    "session.commit()"
   ]
  },
  {
   "cell_type": "markdown",
   "id": "f971f117",
   "metadata": {},
   "source": [
    "#### Read"
   ]
  },
  {
   "cell_type": "code",
   "execution_count": 18,
   "id": "fbffe961",
   "metadata": {},
   "outputs": [
    {
     "name": "stdout",
     "output_type": "stream",
     "text": [
      "2022-11-22 13:36:24,928 INFO sqlalchemy.engine.Engine BEGIN (implicit)\n",
      "2022-11-22 13:36:24,931 INFO sqlalchemy.engine.Engine SELECT pessoa.id_pessoa AS pessoa_id_pessoa, pessoa.nome_pessoa AS pessoa_nome_pessoa, pessoa.cpf_pessoa AS pessoa_cpf_pessoa, pessoa.nascimento_pessoa AS pessoa_nascimento_pessoa, pessoa.estado_civil_pessoa AS pessoa_estado_civil_pessoa, pessoa.endereco_pessoa AS pessoa_endereco_pessoa \n",
      "FROM pessoa \n",
      "WHERE pessoa.nome_pessoa = ?\n",
      " LIMIT ? OFFSET ?\n",
      "2022-11-22 13:36:24,932 INFO sqlalchemy.engine.Engine [generated in 0.00086s] ('Vinicius Soares Jovito', 1, 0)\n"
     ]
    }
   ],
   "source": [
    "query_pessoa = session.query(Pessoa).filter_by(nome_pessoa='Vinicius Soares Jovito').first()"
   ]
  },
  {
   "cell_type": "code",
   "execution_count": 19,
   "id": "d50d8b49",
   "metadata": {},
   "outputs": [
    {
     "name": "stdout",
     "output_type": "stream",
     "text": [
      "2022-11-22 13:36:24,954 INFO sqlalchemy.engine.Engine SELECT pessoa.id_pessoa AS pessoa_id_pessoa, pessoa.nome_pessoa AS pessoa_nome_pessoa, pessoa.cpf_pessoa AS pessoa_cpf_pessoa, pessoa.nascimento_pessoa AS pessoa_nascimento_pessoa, pessoa.estado_civil_pessoa AS pessoa_estado_civil_pessoa, pessoa.endereco_pessoa AS pessoa_endereco_pessoa \n",
      "FROM pessoa ORDER BY pessoa.id_pessoa\n",
      "2022-11-22 13:36:24,955 INFO sqlalchemy.engine.Engine [generated in 0.00118s] ()\n",
      "1 Vinicius Soares Jovito 11122233344 2000-04-15 Solteiro Riacho Fundo 1\n",
      "2 Felipe Augusto 44433322211 2000-03-15 Solteiro Candangolândia\n"
     ]
    }
   ],
   "source": [
    "for instance in session.query(Pessoa).order_by(Pessoa.id_pessoa):\n",
    "    print(instance.id_pessoa, instance.nome_pessoa, instance.cpf_pessoa, instance.nascimento_pessoa, instance.estado_civil_pessoa, instance.endereco_pessoa)"
   ]
  },
  {
   "cell_type": "code",
   "execution_count": 20,
   "id": "cf118086",
   "metadata": {},
   "outputs": [
    {
     "data": {
      "text/plain": [
       "1"
      ]
     },
     "execution_count": 20,
     "metadata": {},
     "output_type": "execute_result"
    }
   ],
   "source": [
    "query_pessoa.id_pessoa"
   ]
  },
  {
   "cell_type": "code",
   "execution_count": null,
   "id": "818128bb",
   "metadata": {},
   "outputs": [],
   "source": []
  }
 ],
 "metadata": {
  "kernelspec": {
   "display_name": "Python 3 (ipykernel)",
   "language": "python",
   "name": "python3"
  },
  "language_info": {
   "codemirror_mode": {
    "name": "ipython",
    "version": 3
   },
   "file_extension": ".py",
   "mimetype": "text/x-python",
   "name": "python",
   "nbconvert_exporter": "python",
   "pygments_lexer": "ipython3",
   "version": "3.9.12"
  }
 },
 "nbformat": 4,
 "nbformat_minor": 5
}

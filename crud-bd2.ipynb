{
 "cells": [
  {
   "cell_type": "markdown",
   "id": "f3c24a3c",
   "metadata": {},
   "source": [
    "## Trabalho 2 - Banco de dados 2 ##"
   ]
  },
  {
   "cell_type": "markdown",
   "id": "c19159dc",
   "metadata": {},
   "source": [
    "#### Alunos: Felipe Augusto e Vinicius Jovito"
   ]
  },
  {
   "cell_type": "code",
   "execution_count": 1,
   "id": "99ec9b29",
   "metadata": {},
   "outputs": [
    {
     "name": "stdout",
     "output_type": "stream",
     "text": [
      "Requirement already satisfied: sqlalchemy in c:\\users\\vinicius jovito\\anaconda3\\lib\\site-packages (1.4.32)\n",
      "Requirement already satisfied: greenlet!=0.4.17 in c:\\users\\vinicius jovito\\anaconda3\\lib\\site-packages (from sqlalchemy) (1.1.1)\n"
     ]
    }
   ],
   "source": [
    "!pip install sqlalchemy\n",
    "import sqlalchemy"
   ]
  },
  {
   "cell_type": "code",
   "execution_count": 2,
   "id": "ab92623f",
   "metadata": {},
   "outputs": [],
   "source": [
    "engine = sqlalchemy.create_engine('sqlite:///detran.db', echo=True)"
   ]
  },
  {
   "cell_type": "code",
   "execution_count": 13,
   "id": "b7f7287e",
   "metadata": {},
   "outputs": [],
   "source": [
    "from sqlalchemy.orm import declarative_base\n",
    "from sqlalchemy import Column, Integer, String, Date, ForeignKey"
   ]
  },
  {
   "cell_type": "code",
   "execution_count": 4,
   "id": "e3d0e9b9",
   "metadata": {},
   "outputs": [],
   "source": [
    "Base = declarative_base()"
   ]
  },
  {
   "cell_type": "markdown",
   "id": "64a08d64",
   "metadata": {},
   "source": [
    "#### Definindo as classes / tabelas"
   ]
  },
  {
   "cell_type": "code",
   "execution_count": 5,
   "id": "748f1b0f",
   "metadata": {},
   "outputs": [],
   "source": [
    "class Pessoa(Base):\n",
    "    __tablename__ = 'pessoa'\n",
    "    id_pessoa = Column(Integer, primary_key=True)\n",
    "    nome_pessoa = Column(String(50), nullable=False)\n",
    "    cpf_pessoa = Column(String(11), nullable=False)\n",
    "    nascimento_pessoa = Column(Date, nullable=False)\n",
    "    estado_civil_pessoa = Column(String(15))\n",
    "    endereco_pessoa = Column(String(100))"
   ]
  },
  {
   "cell_type": "code",
   "execution_count": 14,
   "id": "c24cac50",
   "metadata": {},
   "outputs": [],
   "source": [
    "class CNH(Base):\n",
    "    __tablename__ = 'cnh'\n",
    "    id_cnh = Column(Integer, primary_key=True)\n",
    "    registro_cnh = Column(String(20), nullable=False)\n",
    "    validade_cnh = Column(Date, nullable=False)\n",
    "    id_pessoa_cnh = Column(Integer, ForeignKey(\"pessoa.id_pessoa\"))"
   ]
  },
  {
   "cell_type": "code",
   "execution_count": 16,
   "id": "e971079d",
   "metadata": {},
   "outputs": [],
   "source": [
    "class Veiculo(Base):\n",
    "    __tablename__ = 'veiculo'\n",
    "    id_veiculo = Column(Integer, primary_key=True)\n",
    "    renavam_veiculo = Column(String(20), nullable=False)\n",
    "    placa_veiculo = Column(String(10), nullable=False)\n",
    "    chassi_char = Column(String(17), nullable=False)\n",
    "    modelo_carro = Column(String(20))\n",
    "    id_proprietário_veiculo = Column(Integer, ForeignKey(\"pessoa.id_pessoa\"))"
   ]
  },
  {
   "cell_type": "code",
   "execution_count": 17,
   "id": "e4595129",
   "metadata": {},
   "outputs": [],
   "source": [
    "class Infracao(Base):\n",
    "    __tablename__ = 'infracao'\n",
    "    id_infracao = Column(Integer, primary_key=True)\n",
    "    codigo_infracao = Column(String(15), nullable=False)\n",
    "    descricao_infracao = Column(String(500))\n",
    "    "
   ]
  },
  {
   "cell_type": "code",
   "execution_count": 18,
   "id": "9c76ead7",
   "metadata": {},
   "outputs": [],
   "source": [
    "class Equipamento(Base):\n",
    "    __tablename__ = 'equipamento'\n",
    "    id_equipamento = Column(Integer, primary_key=True)\n",
    "    numero_equipamento = Column(String(25), nullable=False)\n",
    "    localizacao_equipamento = Column(String(40))"
   ]
  },
  {
   "cell_type": "code",
   "execution_count": 19,
   "id": "b77631a8",
   "metadata": {},
   "outputs": [],
   "source": [
    "class Multa(Base):\n",
    "    __tablename__ = 'multa'\n",
    "    id_multa = Column(Integer, primary_key=True)\n",
    "    tipo_multa = Column(String(20))\n",
    "    numero_multa = Column(Integer)\n",
    "    data_multa = Column(Date)\n",
    "    vencimento_multa = Column(Date)\n",
    "    estado_multa = Column(String(20))\n",
    "    nome_agente_multa = Column(String(50), nullable=False)\n",
    "    orgao_multa = Column(String(50), nullable=False)\n",
    "    id_pessoa_multa = Column(Integer, ForeignKey(\"pessoa.id_pessoa\"))\n",
    "    id_veiculo_multa = Column(Integer, ForeignKey(\"veiculo.id_veiculo\"))\n",
    "    id_infracao_multa = Column(Integer, ForeignKey(\"infracao.id_infracao\"))\n",
    "    id_equipamento_multa = Column(Integer, ForeignKey(\"equipamento.id_equipamento\"))"
   ]
  },
  {
   "cell_type": "code",
   "execution_count": 20,
   "id": "3ed2a14e",
   "metadata": {},
   "outputs": [
    {
     "name": "stdout",
     "output_type": "stream",
     "text": [
      "2022-11-21 16:41:57,145 INFO sqlalchemy.engine.Engine BEGIN (implicit)\n",
      "2022-11-21 16:41:57,146 INFO sqlalchemy.engine.Engine PRAGMA main.table_info(\"pessoa\")\n",
      "2022-11-21 16:41:57,147 INFO sqlalchemy.engine.Engine [raw sql] ()\n",
      "2022-11-21 16:41:57,149 INFO sqlalchemy.engine.Engine PRAGMA temp.table_info(\"pessoa\")\n",
      "2022-11-21 16:41:57,149 INFO sqlalchemy.engine.Engine [raw sql] ()\n",
      "2022-11-21 16:41:57,150 INFO sqlalchemy.engine.Engine PRAGMA main.table_info(\"cnh\")\n",
      "2022-11-21 16:41:57,151 INFO sqlalchemy.engine.Engine [raw sql] ()\n",
      "2022-11-21 16:41:57,152 INFO sqlalchemy.engine.Engine PRAGMA temp.table_info(\"cnh\")\n",
      "2022-11-21 16:41:57,153 INFO sqlalchemy.engine.Engine [raw sql] ()\n",
      "2022-11-21 16:41:57,154 INFO sqlalchemy.engine.Engine PRAGMA main.table_info(\"veiculo\")\n",
      "2022-11-21 16:41:57,155 INFO sqlalchemy.engine.Engine [raw sql] ()\n",
      "2022-11-21 16:41:57,156 INFO sqlalchemy.engine.Engine PRAGMA temp.table_info(\"veiculo\")\n",
      "2022-11-21 16:41:57,156 INFO sqlalchemy.engine.Engine [raw sql] ()\n",
      "2022-11-21 16:41:57,157 INFO sqlalchemy.engine.Engine PRAGMA main.table_info(\"infracao\")\n",
      "2022-11-21 16:41:57,158 INFO sqlalchemy.engine.Engine [raw sql] ()\n",
      "2022-11-21 16:41:57,159 INFO sqlalchemy.engine.Engine PRAGMA temp.table_info(\"infracao\")\n",
      "2022-11-21 16:41:57,160 INFO sqlalchemy.engine.Engine [raw sql] ()\n",
      "2022-11-21 16:41:57,161 INFO sqlalchemy.engine.Engine PRAGMA main.table_info(\"equipamento\")\n",
      "2022-11-21 16:41:57,161 INFO sqlalchemy.engine.Engine [raw sql] ()\n",
      "2022-11-21 16:41:57,162 INFO sqlalchemy.engine.Engine PRAGMA temp.table_info(\"equipamento\")\n",
      "2022-11-21 16:41:57,163 INFO sqlalchemy.engine.Engine [raw sql] ()\n",
      "2022-11-21 16:41:57,164 INFO sqlalchemy.engine.Engine PRAGMA main.table_info(\"multa\")\n",
      "2022-11-21 16:41:57,165 INFO sqlalchemy.engine.Engine [raw sql] ()\n",
      "2022-11-21 16:41:57,166 INFO sqlalchemy.engine.Engine PRAGMA temp.table_info(\"multa\")\n",
      "2022-11-21 16:41:57,167 INFO sqlalchemy.engine.Engine [raw sql] ()\n",
      "2022-11-21 16:41:57,169 INFO sqlalchemy.engine.Engine \n",
      "CREATE TABLE pessoa (\n",
      "\tid_pessoa INTEGER NOT NULL, \n",
      "\tnome_pessoa VARCHAR(50) NOT NULL, \n",
      "\tcpf_pessoa VARCHAR(11) NOT NULL, \n",
      "\tnascimento_pessoa DATE NOT NULL, \n",
      "\testado_civil_pessoa VARCHAR(15), \n",
      "\tendereco_pessoa VARCHAR(100), \n",
      "\tPRIMARY KEY (id_pessoa)\n",
      ")\n",
      "\n",
      "\n",
      "2022-11-21 16:41:57,169 INFO sqlalchemy.engine.Engine [no key 0.00066s] ()\n",
      "2022-11-21 16:41:57,178 INFO sqlalchemy.engine.Engine \n",
      "CREATE TABLE infracao (\n",
      "\tid_infracao INTEGER NOT NULL, \n",
      "\tcodigo_infracao VARCHAR(15) NOT NULL, \n",
      "\tdescricao_infracao VARCHAR(500), \n",
      "\tPRIMARY KEY (id_infracao)\n",
      ")\n",
      "\n",
      "\n",
      "2022-11-21 16:41:57,179 INFO sqlalchemy.engine.Engine [no key 0.00075s] ()\n",
      "2022-11-21 16:41:57,187 INFO sqlalchemy.engine.Engine \n",
      "CREATE TABLE equipamento (\n",
      "\tid_equipamento INTEGER NOT NULL, \n",
      "\tnumero_equipamento VARCHAR(25) NOT NULL, \n",
      "\tlocalizacao_equipamento VARCHAR(40), \n",
      "\tPRIMARY KEY (id_equipamento)\n",
      ")\n",
      "\n",
      "\n",
      "2022-11-21 16:41:57,187 INFO sqlalchemy.engine.Engine [no key 0.00070s] ()\n",
      "2022-11-21 16:41:57,194 INFO sqlalchemy.engine.Engine \n",
      "CREATE TABLE cnh (\n",
      "\tid_cnh INTEGER NOT NULL, \n",
      "\tregistro_cnh VARCHAR(20) NOT NULL, \n",
      "\tvalidade_cnh DATE NOT NULL, \n",
      "\tid_pessoa_cnh INTEGER, \n",
      "\tPRIMARY KEY (id_cnh), \n",
      "\tFOREIGN KEY(id_pessoa_cnh) REFERENCES pessoa (id_pessoa)\n",
      ")\n",
      "\n",
      "\n",
      "2022-11-21 16:41:57,195 INFO sqlalchemy.engine.Engine [no key 0.00087s] ()\n",
      "2022-11-21 16:41:57,203 INFO sqlalchemy.engine.Engine \n",
      "CREATE TABLE veiculo (\n",
      "\tid_veiculo INTEGER NOT NULL, \n",
      "\trenavam_veiculo VARCHAR(20) NOT NULL, \n",
      "\tplaca_veiculo VARCHAR(10) NOT NULL, \n",
      "\tchassi_char VARCHAR(17) NOT NULL, \n",
      "\tmodelo_carro VARCHAR(20), \n",
      "\t\"id_proprietário_veiculo\" INTEGER, \n",
      "\tPRIMARY KEY (id_veiculo), \n",
      "\tFOREIGN KEY(\"id_proprietário_veiculo\") REFERENCES pessoa (id_pessoa)\n",
      ")\n",
      "\n",
      "\n",
      "2022-11-21 16:41:57,204 INFO sqlalchemy.engine.Engine [no key 0.00083s] ()\n",
      "2022-11-21 16:41:57,211 INFO sqlalchemy.engine.Engine \n",
      "CREATE TABLE multa (\n",
      "\tid_multa INTEGER NOT NULL, \n",
      "\ttipo_multa VARCHAR(20), \n",
      "\tnumero_multa INTEGER, \n",
      "\tdata_multa DATE, \n",
      "\tvencimento_multa DATE, \n",
      "\testado_multa VARCHAR(20), \n",
      "\tnome_agente_multa VARCHAR(50) NOT NULL, \n",
      "\torgao_multa VARCHAR(50) NOT NULL, \n",
      "\tid_pessoa_multa INTEGER, \n",
      "\tid_veiculo_multa INTEGER, \n",
      "\tid_infracao_multa INTEGER, \n",
      "\tid_equipamento_multa INTEGER, \n",
      "\tPRIMARY KEY (id_multa), \n",
      "\tFOREIGN KEY(id_pessoa_multa) REFERENCES pessoa (id_pessoa), \n",
      "\tFOREIGN KEY(id_veiculo_multa) REFERENCES veiculo (id_veiculo), \n",
      "\tFOREIGN KEY(id_infracao_multa) REFERENCES infracao (id_infracao), \n",
      "\tFOREIGN KEY(id_equipamento_multa) REFERENCES equipamento (id_equipamento)\n",
      ")\n",
      "\n",
      "\n",
      "2022-11-21 16:41:57,211 INFO sqlalchemy.engine.Engine [no key 0.00080s] ()\n",
      "2022-11-21 16:41:57,218 INFO sqlalchemy.engine.Engine COMMIT\n"
     ]
    }
   ],
   "source": [
    "Base.metadata.create_all(engine)"
   ]
  },
  {
   "cell_type": "code",
   "execution_count": null,
   "id": "6613dbed",
   "metadata": {},
   "outputs": [],
   "source": []
  }
 ],
 "metadata": {
  "kernelspec": {
   "display_name": "Python 3 (ipykernel)",
   "language": "python",
   "name": "python3"
  },
  "language_info": {
   "codemirror_mode": {
    "name": "ipython",
    "version": 3
   },
   "file_extension": ".py",
   "mimetype": "text/x-python",
   "name": "python",
   "nbconvert_exporter": "python",
   "pygments_lexer": "ipython3",
   "version": "3.9.12"
  }
 },
 "nbformat": 4,
 "nbformat_minor": 5
}
